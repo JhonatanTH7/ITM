{
  "nbformat": 4,
  "nbformat_minor": 0,
  "metadata": {
    "colab": {
      "provenance": [],
      "authorship_tag": "ABX9TyPUv3/ZpVekH5RcrcoitNJB",
      "include_colab_link": true
    },
    "kernelspec": {
      "name": "python3",
      "display_name": "Python 3"
    },
    "language_info": {
      "name": "python"
    }
  },
  "cells": [
    {
      "cell_type": "markdown",
      "metadata": {
        "id": "view-in-github",
        "colab_type": "text"
      },
      "source": [
        "<a href=\"https://colab.research.google.com/github/JhonatanTH7/ITM/blob/main/elsapoperro.ipynb\" target=\"_parent\"><img src=\"https://colab.research.google.com/assets/colab-badge.svg\" alt=\"Open In Colab\"/></a>"
      ]
    },
    {
      "cell_type": "markdown",
      "source": [
        "Introducción a la programación cientifica"
      ],
      "metadata": {
        "id": "sbFi0IizgryS"
      }
    },
    {
      "cell_type": "code",
      "source": [
        "print(\"ITM\")"
      ],
      "metadata": {
        "id": "hv0AIuHog8Vn"
      },
      "execution_count": null,
      "outputs": []
    },
    {
      "cell_type": "code",
      "source": [
        "universidad=\"ITM\"\n",
        "print(universidad)"
      ],
      "metadata": {
        "id": "lPuv2D94aTfD"
      },
      "execution_count": null,
      "outputs": []
    },
    {
      "cell_type": "code",
      "source": [
        "nombre=input(\"Ingrese su nombre \")\n",
        "print(f\"Hola {nombre}!\")"
      ],
      "metadata": {
        "id": "jMx3dqjAaVdx"
      },
      "execution_count": null,
      "outputs": []
    },
    {
      "cell_type": "code",
      "source": [
        "horas=int(input(\"Ingrese el numero de horas trabajadas \"))\n",
        "precioHora=int(input(\"Ingrese el costo por hora \"))\n",
        "print(f\"La paga que te corresponde es de {horas*precioHora}$\")"
      ],
      "metadata": {
        "id": "aYFCV9f2bBrr"
      },
      "execution_count": null,
      "outputs": []
    },
    {
      "cell_type": "code",
      "source": [
        "n=int(input(\"Ingrese un numero entero \"))\n",
        "print(f\"La suma de los n primeros numeros es {n*(n+1)/2}\")"
      ],
      "metadata": {
        "id": "IVAAeQ3Ac9-2"
      },
      "execution_count": null,
      "outputs": []
    },
    {
      "cell_type": "code",
      "source": [
        "kg=int(input(\"Ingrese el peso \"))\n",
        "altura=float(input(\"Ingrese la altura \"))\n",
        "print(f\"Su indice de masa corporal es {round(kg/altura**2,2)}\")"
      ],
      "metadata": {
        "id": "UOc_ltHYeL17"
      },
      "execution_count": null,
      "outputs": []
    },
    {
      "cell_type": "code",
      "source": [
        "n=int(input(\"Ingrese el numero de años \"))\n",
        "i=float(input(\"Ingrese la tasa de interes \"))\n",
        "CI=float(input(\"Ingrese el capital invertido \"))\n",
        "print(f\"Su capital final es {CI*(i+1)**n}\")"
      ],
      "metadata": {
        "id": "W6LnwcpVkOTH"
      },
      "execution_count": null,
      "outputs": []
    },
    {
      "cell_type": "code",
      "source": [
        "edad=int(input(\"Ingrese su edad \"))\n",
        "if edad>17:\n",
        "  print(\"Eres mayor de edad\")\n",
        "else:\n",
        "  print(\"Eres menor de edad\")\n",
        "print(\"Suerte sapoperro\")"
      ],
      "metadata": {
        "id": "mfYaMDdsmxKq"
      },
      "execution_count": null,
      "outputs": []
    },
    {
      "cell_type": "code",
      "source": [
        "contraseña=(input(\"Ingrese la contraseña: \"))\n",
        "password=\"234A\"\n",
        "if contraseña==password:\n",
        "  print(\"Acceso concedido\")\n",
        "else:\n",
        "  print(\"Contraseña incorrecta...acceso no concedido\")"
      ],
      "metadata": {
        "id": "gq3BHUnAaxlq"
      },
      "execution_count": null,
      "outputs": []
    },
    {
      "cell_type": "code",
      "source": [
        "palabra=input(\"Ingrese una palabra: \")\n",
        "for j in range(1,11):\n",
        "  print(f\"{j} - {palabra}\")\n",
        "print(\"Adios\")"
      ],
      "metadata": {
        "id": "evKqHwn-cdTE"
      },
      "execution_count": null,
      "outputs": []
    },
    {
      "cell_type": "code",
      "source": [
        "palabra=input(\"Ingrese una palabra: \")\n",
        "j=1\n",
        "while(j<11):\n",
        "  print(f\"{j} - {palabra}\")\n",
        "  j+=1"
      ],
      "metadata": {
        "id": "OURSKvWletRw"
      },
      "execution_count": null,
      "outputs": []
    },
    {
      "cell_type": "code",
      "source": [
        "edad=int(input(\"Ingrese su edad: \"))\n",
        "j=1\n",
        "while(j<edad+1):\n",
        "  print(j)\n",
        "  j+=1"
      ],
      "metadata": {
        "id": "ek_a2mqBfbxG"
      },
      "execution_count": null,
      "outputs": []
    },
    {
      "cell_type": "code",
      "source": [
        "edad=int(input(\"Ingrese su edad: \"))\n",
        "j=1\n",
        "for j in range(1,edad+1,1):\n",
        "  print(j)"
      ],
      "metadata": {
        "id": "slc722STiHWd"
      },
      "execution_count": null,
      "outputs": []
    },
    {
      "cell_type": "code",
      "source": [
        "edad=int(input(\"Ingrese un numero entero positivo: \"))\n",
        "j=edad\n",
        "while(j>0):\n",
        "  print(j)\n",
        "  j-=1"
      ],
      "metadata": {
        "id": "9C0UB7x8hAHz"
      },
      "execution_count": null,
      "outputs": []
    },
    {
      "cell_type": "code",
      "source": [
        "edad=int(input(\"Ingrese un numero entero positivo: \"))\n",
        "j=edad\n",
        "for j in range(edad,0,-1):\n",
        "  print(j)"
      ],
      "metadata": {
        "id": "EwzYJrwSiZEo"
      },
      "execution_count": null,
      "outputs": []
    },
    {
      "cell_type": "code",
      "source": [
        "CI=float(input(\"Ingrese el capital a invertir: \"))\n",
        "i=float(input(\"Ingrese la tasa de interes anual: \"))\n",
        "n=int(input(\"Ingrese el numero de años: \"))\n",
        "for j in range(1,n+1,1):\n",
        "  print(f\"Su capital en el año {j} es {round(CI*(i+1)**j,2)}\")"
      ],
      "metadata": {
        "colab": {
          "base_uri": "https://localhost:8080/"
        },
        "id": "lLJf7IqdjRPG",
        "outputId": "ede2a6aa-68f1-4d47-f58c-1d46f632658e"
      },
      "execution_count": 22,
      "outputs": [
        {
          "output_type": "stream",
          "name": "stdout",
          "text": [
            "Ingrese el capital a invertir: 100000\n",
            "Ingrese la tasa de interes anual: 0.1\n",
            "Ingrese el numero de años: 5\n",
            "Su capital en el año 1 es 110000.0\n",
            "Su capital en el año 2 es 121000.0\n",
            "Su capital en el año 3 es 133100.0\n",
            "Su capital en el año 4 es 146410.0\n",
            "Su capital en el año 5 es 161051.0\n"
          ]
        }
      ]
    }
  ]
}