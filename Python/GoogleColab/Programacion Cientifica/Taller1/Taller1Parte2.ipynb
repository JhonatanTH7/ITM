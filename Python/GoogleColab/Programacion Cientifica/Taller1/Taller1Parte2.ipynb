{
  "nbformat": 4,
  "nbformat_minor": 0,
  "metadata": {
    "colab": {
      "provenance": [],
      "authorship_tag": "ABX9TyPVw9jlAWQmBrNq3KGd0+2g",
      "include_colab_link": true
    },
    "kernelspec": {
      "name": "python3",
      "display_name": "Python 3"
    },
    "language_info": {
      "name": "python"
    }
  },
  "cells": [
    {
      "cell_type": "markdown",
      "metadata": {
        "id": "view-in-github",
        "colab_type": "text"
      },
      "source": [
        "<a href=\"https://colab.research.google.com/github/JhonatanTH7/ITM/blob/main/Python/GoogleColab/Programacion%20Cientifica/Taller1/Taller1Parte2.ipynb\" target=\"_parent\"><img src=\"https://colab.research.google.com/assets/colab-badge.svg\" alt=\"Open In Colab\"/></a>"
      ]
    },
    {
      "cell_type": "markdown",
      "source": [
        "1. Escribir un programa que pregunte al usuario su nombre edad, dirección y teléfono y lo guarde en un diccionario. Después debe mostrar por pantalla el mensaje. (nombre) tiene (edad) años, vive en (dirección) y su número es (teléfono)"
      ],
      "metadata": {
        "id": "1IPQkzJTH73a"
      }
    },
    {
      "cell_type": "code",
      "source": [
        "try:\n",
        "  nombre=str(input(\"Ingrese su nombre: \"))\n",
        "  edad=int(input(\"Ingrese su edad: \"))\n",
        "  direccion=str(input(\"Ingrese su dirección: \"))\n",
        "  telefono=str(input(\"Ingrese su número de teléfono: \"))\n",
        "  persona={\"nombre\":nombre,\"edad\":edad,\"direccion\":direccion,\"telefono\":telefono}\n",
        "  print(persona[\"nombre\"],\"tiene\", persona[\"edad\"],\"años, vive en\",persona[\"direccion\"],\"y su número es\", persona[\"telefono\"])\n",
        "except:\n",
        "  print(\"Caracter ingresado no es valido\")"
      ],
      "metadata": {
        "id": "U7mEMLr_IFNY"
      },
      "execution_count": null,
      "outputs": []
    },
    {
      "cell_type": "markdown",
      "source": [
        "2. Pregunte al usuario por una fruta, un numero de kilos y muestre por pantalla el precio de ese número de kilos de fruta. Si la fruta no está en el diccionario debe mostrar un mensaje informado de ello"
      ],
      "metadata": {
        "id": "2Fm68W0XIFyV"
      }
    },
    {
      "cell_type": "code",
      "source": [
        "frutasLista=[{\"nombre\":\"limon\",\"precio\":1000},{\"nombre\":\"maracuya\",\"precio\":2000},{\"nombre\":\"naranja\",\"precio\":3000}]\n",
        "frutaUsuario=str(input(\"Ingrese una fruta: \"))\n",
        "try:\n",
        "  for index, product in enumerate(frutasLista):\n",
        "      if(product[\"nombre\"]==frutaUsuario.lower()):\n",
        "        kg=float(input(\"Ingrese los kilogramos que desea: \"))\n",
        "        print(\"\")\n",
        "        print(f\"El costo por {kg} kilos de {frutaUsuario} es de $\",product[\"precio\"]*kg)\n",
        "        break\n",
        "      elif(index==len(frutasLista)-1):\n",
        "        print(\"No se encontro la fruta solicitada\")\n",
        "except:\n",
        "  print(\"Caracter ingresado no es valido\")"
      ],
      "metadata": {
        "id": "MwY3h5Q-IJRo"
      },
      "execution_count": null,
      "outputs": []
    },
    {
      "cell_type": "markdown",
      "source": [
        "3. Escribir un programa que almacene el diccionario con los créditos de las\n",
        "asignaturas de un curso y después muestre por pantalla los créditos de cada\n",
        "asignatura en el formato (asignatura) tiene (créditos), donde (asignatura) es\n",
        "cada una de las asignaturas del curso y crédito (créditos) son sus créditos. Al final debe mostrar también el número total de créditos del curso"
      ],
      "metadata": {
        "id": "HNOM2qNiIJp4"
      }
    },
    {
      "cell_type": "code",
      "source": [
        "curso=[{\"asignatura\":\"matematicas\",\"creditos\":3},{\"asignatura\":\"informatica\",\"creditos\":2},{\"asignatura\":\"ingles\",\"creditos\":5},{\"asignatura\":\"fisica\",\"creditos\":3}]\n",
        "while True:\n",
        "  try:\n",
        "    print(\"\")\n",
        "    input(\"Presione enter para continuar...           \")\n",
        "    print(\"\")\n",
        "    print(\"=======================================\")\n",
        "    print(\"=========== Menú Curso ===============\")\n",
        "    print(\"=======================================\")\n",
        "    print(\"1. Listar asignaturas y número total de créditos\")\n",
        "    print(\"2. Agregar asignatura\")\n",
        "    print(\"3. Salir\")\n",
        "    print(\"\")\n",
        "    opcion=(str(input(\"Ingrese el numero asociado a la acción que desea realizar: \")))\n",
        "    print(\"\")\n",
        "    match opcion:\n",
        "      case \"1\":\n",
        "        acumCreditos=0\n",
        "        print(\"\")\n",
        "        print(\"===== Asignaturas =====\")\n",
        "        for asignatura in curso:\n",
        "          print(\"-\",asignatura[\"asignatura\"],\"tiene\",asignatura[\"creditos\"],\"crédito/s\")\n",
        "          acumCreditos+=asignatura[\"creditos\"]\n",
        "        print(\"\")\n",
        "        print(f\"{acumCreditos} es el numero total de créditos\")\n",
        "        print(\"\")\n",
        "      case \"2\":\n",
        "        try:\n",
        "          curso.append({\"asignatura\":str(input(\"Ingrese el nombre de la asignatura: \")),\"creditos\":int(input(\"Ingrese el número de créditos de la asignatura: \"))})\n",
        "          print(\"\")\n",
        "          print(\"Asignatura agregada correctamente\")\n",
        "          print(\"\")\n",
        "        except:\n",
        "          print(\"\")\n",
        "          print(\"La opción ingresada no es valida, ingresela nuevamente     \")\n",
        "          print(\"\")\n",
        "      case \"3\":\n",
        "        print(\"Hasta la proxima!!!\")\n",
        "        break\n",
        "      case _:\n",
        "        print(\"Opcion ingresada no esta dentro de las opciones\")\n",
        "\n",
        "  except:\n",
        "      print(\"\")\n",
        "      print(\"La opción ingresada no es valida, ingresela nuevamente     \")\n",
        "      print(\"\")"
      ],
      "metadata": {
        "id": "DghiPo9qIOXk"
      },
      "execution_count": null,
      "outputs": []
    }
  ]
}