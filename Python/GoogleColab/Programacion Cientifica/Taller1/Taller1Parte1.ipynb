{
  "nbformat": 4,
  "nbformat_minor": 0,
  "metadata": {
    "colab": {
      "provenance": [],
      "authorship_tag": "ABX9TyOypXJv+Toktm8dOVAzgwUX",
      "include_colab_link": true
    },
    "kernelspec": {
      "name": "python3",
      "display_name": "Python 3"
    },
    "language_info": {
      "name": "python"
    }
  },
  "cells": [
    {
      "cell_type": "markdown",
      "metadata": {
        "id": "view-in-github",
        "colab_type": "text"
      },
      "source": [
        "<a href=\"https://colab.research.google.com/github/JhonatanTH7/ITM/blob/main/Python/GoogleColab/Programacion%20Cientifica/Taller1/Taller1Parte1.ipynb\" target=\"_parent\"><img src=\"https://colab.research.google.com/assets/colab-badge.svg\" alt=\"Open In Colab\"/></a>"
      ]
    },
    {
      "cell_type": "markdown",
      "source": [
        "1. Realice un algoritmo (En Python) que calcule la distancia de un punto (x1,y1,z1) a un punto (x2,\n",
        "y2, z2)"
      ],
      "metadata": {
        "id": "Fb9GsVQ9s7Yd"
      }
    },
    {
      "cell_type": "code",
      "source": [
        "try:\n",
        "  X1=float(input(f\"Ingrese el valor en X1: \"))\n",
        "  Y1=float(input(f\"Ingrese el valor en Y1: \"))\n",
        "  Z1=float(input(f\"Ingrese el valor en Z1: \"))\n",
        "  X2=float(input(f\"Ingrese el valor en X2: \"))\n",
        "  Y2=float(input(f\"Ingrese el valor en Y2: \"))\n",
        "  Z2=float(input(f\"Ingrese el valor en Z2: \"))\n",
        "  print(f\"La distancia del punto p1({X1},{Y1},{Z1}) a p2({X2},{Y2},{Z2}) es: {((X2-X1)**2+(Y2-Y1)**2+(Z2-Z1)**2)**0.5}\")\n",
        "except:\n",
        "  print(\"Caracteres ingresados no son validos, intente nuevamente\")"
      ],
      "metadata": {
        "id": "RacmyaI8s_68"
      },
      "execution_count": null,
      "outputs": []
    },
    {
      "cell_type": "markdown",
      "source": [
        "2. Desarrolle un algoritmo (En Python) que realice la conversión de grados Celsius a grados kelvin\n",
        "y a grados Farenheit"
      ],
      "metadata": {
        "id": "k_w20CfYzYEv"
      }
    },
    {
      "cell_type": "code",
      "source": [
        "while(True):\n",
        "  try:\n",
        "    celsius=float(input(\"Ingrese los grados Celsius a convertir: \"))\n",
        "    print(f\"Conversion a Kelvin: {celsius + 273.15}\")\n",
        "    print(f\"Conversion a Farenheit: {(celsius * 9/5) + 32 }\")\n",
        "    break\n",
        "  except:\n",
        "    print(\"Caracteres ingresados no son validos, intente nuevamente\")"
      ],
      "metadata": {
        "id": "Cib4o5aXze3f"
      },
      "execution_count": null,
      "outputs": []
    },
    {
      "cell_type": "markdown",
      "source": [
        "3. Desarrolle un algoritmo (Python) que realice la conversión de grados kelvin a grados Celsius y\n",
        "a grados Farenheit"
      ],
      "metadata": {
        "id": "3Tz5FdEM3xSE"
      }
    },
    {
      "cell_type": "code",
      "source": [
        "while(True):\n",
        "  try:\n",
        "    kelvin=float(input(\"Ingrese los grados Kelvin a convertir: \"))\n",
        "    print(f\"Conversion a Celsius: {kelvin - 273.15}\")\n",
        "    print(f\"Conversion a Farenheit: {(kelvin - 273.15) * 9/5 + 32}\")\n",
        "    break\n",
        "  except:\n",
        "    print(\"Caracteres ingresados no son validos, intente nuevamente\")"
      ],
      "metadata": {
        "id": "5eqR553R4Hmw"
      },
      "execution_count": null,
      "outputs": []
    },
    {
      "cell_type": "markdown",
      "source": [
        "4. Desarrolle un algoritmo (Python) que calcule el área de un círculo, de un triángulo, de un\n",
        "trapecio, el perímetro de un círculo y el perímetro de un triangulo."
      ],
      "metadata": {
        "id": "SL28YnOf5K7B"
      }
    },
    {
      "cell_type": "code",
      "source": [
        "import math\n",
        "try:\n",
        "  print(\"\")\n",
        "  print(\"=== Circulo ===\")\n",
        "  radioCirculo=float(input(\"Ingrese el radio del circulo: \"))\n",
        "  print(f\"Perimetro: {2*math.pi*radioCirculo}\")\n",
        "  print(f\"Area: {math.pi*(radioCirculo)**2}\")\n",
        "  print(\"\")\n",
        "except:\n",
        "  print(\"Caracteres ingresados no son validos\")\n",
        "\n",
        "try:\n",
        "  print(\"\")\n",
        "  print(\"=== Triangulo ===\")\n",
        "  a=float(input(\"Ingrese el lado a del triangulo: \"))\n",
        "  b=float(input(\"Ingrese el lado b del triangulo: \"))\n",
        "  c=float(input(\"Ingrese el lado c del triangulo: \"))\n",
        "  s=(a+b+c)/2\n",
        "  print(f\"Perimetro: {a+b+c}\")\n",
        "  print(f\"Area: {(s*(s-a)*(s-b)*(s-c))**0.5}\")\n",
        "  print(\"\")\n",
        "except:\n",
        "  print(\"Caracteres ingresados no son validos\")\n",
        "\n",
        "try:\n",
        "  print(\"\")\n",
        "  print(\"=== Trapecio ===\")\n",
        "  B=float(input(\"Ingrese la base mayor del trapecio: \"))\n",
        "  b=float(input(\"Ingrese la base menor del trapecio: \"))\n",
        "  h=float(input(\"Ingrese la altura del trapecio: \"))\n",
        "  print(f\"Area: {((B+b)/2)*h}\")\n",
        "  print(\"\")\n",
        "except:\n",
        "  print(\"Caracteres ingresados no son validos\")"
      ],
      "metadata": {
        "id": "J5422B0y5KMG"
      },
      "execution_count": null,
      "outputs": []
    },
    {
      "cell_type": "markdown",
      "source": [
        "5. Desarrolle un algotimo en Python un algoritmo para calcular el factorial de un número\n",
        "entrado por el usuario, realizando multiplicaciones sucesivas (sin utilizar ninguna función pre-\n",
        "establecida de Python)."
      ],
      "metadata": {
        "id": "6s8YhqxOFEWj"
      }
    },
    {
      "cell_type": "code",
      "source": [
        "while(True):\n",
        "  try:\n",
        "    numero=int(input(\"Ingrese el número entero del que desea saber su factorial: \"))\n",
        "    factorial=1\n",
        "    for i in range(1,numero+1):\n",
        "      factorial=factorial*i\n",
        "    print(f\"El factorial de {numero} es: {factorial}\")\n",
        "    break\n",
        "  except:\n",
        "    print(\"Caracteres ingresados no son validos, ingreselo nuevamente\")"
      ],
      "metadata": {
        "id": "SMVsHo92FOpw"
      },
      "execution_count": null,
      "outputs": []
    }
  ]
}