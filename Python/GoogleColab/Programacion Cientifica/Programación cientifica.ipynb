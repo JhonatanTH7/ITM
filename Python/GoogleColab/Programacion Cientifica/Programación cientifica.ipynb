{
  "cells": [
    {
      "cell_type": "markdown",
      "metadata": {
        "colab_type": "text",
        "id": "view-in-github"
      },
      "source": [
        "<a href=\"https://colab.research.google.com/github/JhonatanTH7/ITM/blob/main/out/production/ITM/Python/GoogleColab/Programacion%20Cientifica/Programaci%C3%B3n%20cientifica.ipynb\" target=\"_parent\"><img src=\"https://colab.research.google.com/assets/colab-badge.svg\" alt=\"Open In Colab\"/></a>"
      ]
    },
    {
      "cell_type": "markdown",
      "metadata": {
        "id": "sbFi0IizgryS"
      },
      "source": [
        "Introducción a la programación cientifica"
      ]
    },
    {
      "cell_type": "code",
      "execution_count": null,
      "metadata": {
        "id": "hv0AIuHog8Vn"
      },
      "outputs": [],
      "source": [
        "print(\"ITM\")"
      ]
    },
    {
      "cell_type": "code",
      "execution_count": null,
      "metadata": {
        "id": "lPuv2D94aTfD"
      },
      "outputs": [],
      "source": [
        "universidad=\"ITM\"\n",
        "print(universidad)"
      ]
    },
    {
      "cell_type": "code",
      "execution_count": null,
      "metadata": {
        "id": "jMx3dqjAaVdx"
      },
      "outputs": [],
      "source": [
        "nombre=input(\"Ingrese su nombre \")\n",
        "print(f\"Hola {nombre}!\")"
      ]
    },
    {
      "cell_type": "code",
      "execution_count": null,
      "metadata": {
        "id": "aYFCV9f2bBrr"
      },
      "outputs": [],
      "source": [
        "horas=int(input(\"Ingrese el numero de horas trabajadas \"))\n",
        "precioHora=int(input(\"Ingrese el costo por hora \"))\n",
        "print(f\"La paga que te corresponde es de {horas*precioHora}$\")"
      ]
    },
    {
      "cell_type": "code",
      "execution_count": null,
      "metadata": {
        "id": "IVAAeQ3Ac9-2"
      },
      "outputs": [],
      "source": [
        "n=int(input(\"Ingrese un numero entero \"))\n",
        "print(f\"La suma de los n primeros numeros es {n*(n+1)/2}\")"
      ]
    },
    {
      "cell_type": "code",
      "execution_count": null,
      "metadata": {
        "id": "UOc_ltHYeL17"
      },
      "outputs": [],
      "source": [
        "kg=int(input(\"Ingrese el peso \"))\n",
        "altura=float(input(\"Ingrese la altura \"))\n",
        "print(f\"Su indice de masa corporal es {round(kg/altura**2,2)}\")"
      ]
    },
    {
      "cell_type": "code",
      "execution_count": null,
      "metadata": {
        "id": "W6LnwcpVkOTH"
      },
      "outputs": [],
      "source": [
        "n=int(input(\"Ingrese el numero de años \"))\n",
        "i=float(input(\"Ingrese la tasa de interes \"))\n",
        "CI=float(input(\"Ingrese el capital invertido \"))\n",
        "print(f\"Su capital final es {CI*(i+1)**n}\")"
      ]
    },
    {
      "cell_type": "code",
      "execution_count": null,
      "metadata": {
        "id": "mfYaMDdsmxKq"
      },
      "outputs": [],
      "source": [
        "edad=int(input(\"Ingrese su edad \"))\n",
        "if edad>17:\n",
        "  print(\"Eres mayor de edad\")\n",
        "else:\n",
        "  print(\"Eres menor de edad\")\n",
        "print(\"Suerte sapoperro\")"
      ]
    },
    {
      "cell_type": "code",
      "execution_count": null,
      "metadata": {
        "id": "gq3BHUnAaxlq"
      },
      "outputs": [],
      "source": [
        "contraseña=(input(\"Ingrese la contraseña: \"))\n",
        "password=\"234A\"\n",
        "if contraseña==password:\n",
        "  print(\"Acceso concedido\")\n",
        "else:\n",
        "  print(\"Contraseña incorrecta...acceso no concedido\")"
      ]
    },
    {
      "cell_type": "code",
      "execution_count": null,
      "metadata": {
        "id": "evKqHwn-cdTE"
      },
      "outputs": [],
      "source": [
        "palabra=input(\"Ingrese una palabra: \")\n",
        "for j in range(1,11):\n",
        "  print(f\"{j} - {palabra}\")\n",
        "print(\"Adios\")"
      ]
    },
    {
      "cell_type": "code",
      "execution_count": null,
      "metadata": {
        "id": "OURSKvWletRw"
      },
      "outputs": [],
      "source": [
        "palabra=input(\"Ingrese una palabra: \")\n",
        "j=1\n",
        "while(j<11):\n",
        "  print(f\"{j} - {palabra}\")\n",
        "  j+=1"
      ]
    },
    {
      "cell_type": "code",
      "execution_count": null,
      "metadata": {
        "id": "ek_a2mqBfbxG"
      },
      "outputs": [],
      "source": [
        "edad=int(input(\"Ingrese su edad: \"))\n",
        "j=1\n",
        "while(j<edad+1):\n",
        "  print(j)\n",
        "  j+=1"
      ]
    },
    {
      "cell_type": "code",
      "execution_count": null,
      "metadata": {
        "id": "slc722STiHWd"
      },
      "outputs": [],
      "source": [
        "edad=int(input(\"Ingrese su edad: \"))\n",
        "j=1\n",
        "for j in range(1,edad+1,1):\n",
        "  print(j)"
      ]
    },
    {
      "cell_type": "code",
      "execution_count": null,
      "metadata": {
        "id": "9C0UB7x8hAHz"
      },
      "outputs": [],
      "source": [
        "edad=int(input(\"Ingrese un numero entero positivo: \"))\n",
        "j=edad\n",
        "while(j>0):\n",
        "  print(j)\n",
        "  j-=1"
      ]
    },
    {
      "cell_type": "code",
      "execution_count": null,
      "metadata": {
        "id": "EwzYJrwSiZEo"
      },
      "outputs": [],
      "source": [
        "edad=int(input(\"Ingrese un numero entero positivo: \"))\n",
        "j=edad\n",
        "for j in range(edad,0,-1):\n",
        "  print(j)"
      ]
    },
    {
      "cell_type": "code",
      "execution_count": null,
      "metadata": {
        "id": "lLJf7IqdjRPG"
      },
      "outputs": [],
      "source": [
        "CI=float(input(\"Ingrese el capital a invertir: \"))\n",
        "i=float(input(\"Ingrese la tasa de interes anual: \"))\n",
        "n=int(input(\"Ingrese el numero de años: \"))\n",
        "for j in range(1,n+1,1):\n",
        "  print(f\"Su capital en el año {j} es {round(CI*(i+1)**j,2)}\")"
      ]
    },
    {
      "cell_type": "code",
      "execution_count": null,
      "metadata": {
        "id": "sUsQIeMqe82I"
      },
      "outputs": [],
      "source": [
        "Animales={\"gato\":\"miau\",\"perro\":\"guau\"}\n",
        "print(Animales)\n",
        "print(Animales[\"gato\"])\n",
        "print(Animales[\"perro\"])\n",
        "print(Animales.keys())"
      ]
    },
    {
      "cell_type": "code",
      "execution_count": null,
      "metadata": {
        "id": "xTQqeioejeZD"
      },
      "outputs": [],
      "source": [
        "17>>1"
      ]
    },
    {
      "cell_type": "code",
      "execution_count": null,
      "metadata": {
        "id": "OXY8ODFOpGS8"
      },
      "outputs": [],
      "source": [
        "17<<1"
      ]
    },
    {
      "cell_type": "code",
      "execution_count": null,
      "metadata": {
        "id": "7-jIPuexmjET"
      },
      "outputs": [],
      "source": [
        "lista=[1,2]\n",
        "lista"
      ]
    },
    {
      "cell_type": "code",
      "execution_count": null,
      "metadata": {
        "id": "zTqJ0WbHmlhQ"
      },
      "outputs": [],
      "source": [
        "tupla=(2,\"Hola\",[4,5,6],True)\n",
        "tupla"
      ]
    },
    {
      "cell_type": "code",
      "execution_count": null,
      "metadata": {
        "id": "kDq2VPmTn-cn"
      },
      "outputs": [],
      "source": [
        "tupla2=(tupla,\"Jose\",False,2,True)\n",
        "tupla2"
      ]
    },
    {
      "cell_type": "code",
      "execution_count": null,
      "metadata": {
        "id": "TpWbV5FJm08x"
      },
      "outputs": [],
      "source": [
        "lista2=[43,\"Hola\",[43,56,72]]\n",
        "lista"
      ]
    },
    {
      "cell_type": "code",
      "execution_count": null,
      "metadata": {
        "id": "5sWwGOOLnHCj"
      },
      "outputs": [],
      "source": [
        "lista2[2]=lista[0]\n",
        "lista2"
      ]
    },
    {
      "cell_type": "code",
      "execution_count": null,
      "metadata": {
        "id": "Hwd84xl3pKZ2"
      },
      "outputs": [],
      "source": [
        "len(lista), len(tupla), len(tupla2), len(lista2)"
      ]
    },
    {
      "cell_type": "code",
      "execution_count": null,
      "metadata": {
        "id": "Ro9ImhLgq3aJ"
      },
      "outputs": [],
      "source": [
        "lista2.append(1000)\n",
        "lista2"
      ]
    },
    {
      "cell_type": "code",
      "execution_count": null,
      "metadata": {
        "id": "Br_MuBXVrhNz"
      },
      "outputs": [],
      "source": [
        "# Ingresa en el indice indicado y mueve el resto de elementos sin eliminarlos (los corre una posición)\n",
        "lista2.insert(2,\"Sapoperro\")\n",
        "lista2"
      ]
    },
    {
      "cell_type": "code",
      "execution_count": null,
      "metadata": {
        "id": "r7LbwmoBrTok"
      },
      "outputs": [],
      "source": [
        "lista2.pop()\n",
        "lista2"
      ]
    },
    {
      "cell_type": "code",
      "execution_count": null,
      "metadata": {
        "id": "CO4ZoI1wrBZI"
      },
      "outputs": [],
      "source": [
        "lista2.pop(0)\n",
        "lista2"
      ]
    },
    {
      "cell_type": "code",
      "execution_count": null,
      "metadata": {
        "id": "2BGfsF7Cr4-m"
      },
      "outputs": [],
      "source": [
        "numeros=[4,21,6,84,2,1,78,83,3,3,1]\n",
        "numeros"
      ]
    },
    {
      "cell_type": "code",
      "execution_count": null,
      "metadata": {
        "id": "8L8WKFLXr1l1"
      },
      "outputs": [],
      "source": [
        "numeros.sort()\n",
        "numeros"
      ]
    },
    {
      "cell_type": "code",
      "execution_count": null,
      "metadata": {
        "id": "OMaL_LbosMB6"
      },
      "outputs": [],
      "source": [
        "numeros.reverse()\n",
        "numeros"
      ]
    },
    {
      "cell_type": "code",
      "execution_count": null,
      "metadata": {
        "id": "94fjHcyUsMlc"
      },
      "outputs": [],
      "source": [
        "numeros.sort(reverse=True)\n",
        "numeros"
      ]
    },
    {
      "cell_type": "code",
      "execution_count": null,
      "metadata": {
        "id": "hIfDZoVftPeD"
      },
      "outputs": [],
      "source": [
        "# Cuenta el numero de veces que se repite el elemento indicado\n",
        "numeros.count(3)"
      ]
    },
    {
      "cell_type": "code",
      "execution_count": null,
      "metadata": {
        "id": "5VLrZvhCtjVw"
      },
      "outputs": [],
      "source": [
        "# Une la lista indicada a la accedida con el metodo\n",
        "numeros.extend(lista2)\n",
        "numeros"
      ]
    },
    {
      "cell_type": "code",
      "execution_count": null,
      "metadata": {
        "id": "IHCVchsXvcmN"
      },
      "outputs": [],
      "source": [
        "listaAux=lista+lista2\n",
        "listaAux"
      ]
    },
    {
      "cell_type": "code",
      "execution_count": null,
      "metadata": {
        "id": "WW-jsk_itn0z"
      },
      "outputs": [],
      "source": [
        "numeros.clear()\n",
        "numeros"
      ]
    },
    {
      "cell_type": "code",
      "execution_count": null,
      "metadata": {
        "id": "MmsbYwIHtnoA"
      },
      "outputs": [],
      "source": [
        "# Me sincroniza las listas el cambio de una se ve reflejada en la otra\n",
        "lista=lista2\n",
        "# Me copia la lista a la otra sin sincronizar\n",
        "lista=lista2[:]"
      ]
    },
    {
      "cell_type": "code",
      "execution_count": null,
      "metadata": {
        "id": "EA6FTOfYyNlZ"
      },
      "outputs": [],
      "source": [
        "# Intercambia valores en una lista\n",
        "prueba=[0,1,2,3,4]\n",
        "prueba[0],prueba[3]=prueba[3],prueba[0]\n",
        "prueba"
      ]
    },
    {
      "cell_type": "code",
      "execution_count": null,
      "metadata": {
        "id": "iMWkAGakkrwj"
      },
      "outputs": [],
      "source": [
        "# Retorno de booleano\n",
        "miLista=[0,2,4,\"d\",3]\n",
        "print(0 in miLista)\n",
        "print(\"d\" not in miLista)"
      ]
    },
    {
      "cell_type": "code",
      "execution_count": null,
      "metadata": {
        "id": "h6GSkLBMoB-B"
      },
      "outputs": [],
      "source": [
        "EMPTY=\"-\"\n",
        "TORRE=\"TORRE\"\n",
        "tablero=[]\n",
        "for i in range(8):\n",
        "  fila=[EMPTY for i in range(8)]\n",
        "  tablero.append(fila)\n",
        "tablero"
      ]
    },
    {
      "cell_type": "code",
      "execution_count": null,
      "metadata": {
        "id": "DFmXZEfup2uV"
      },
      "outputs": [],
      "source": [
        "tablero[0][0]=TORRE\n",
        "tablero[0][7]=TORRE\n",
        "tablero[7][0]=TORRE\n",
        "tablero[7][7]=TORRE\n",
        "tablero"
      ]
    },
    {
      "cell_type": "code",
      "execution_count": null,
      "metadata": {
        "id": "gPRQoeLXpOmd"
      },
      "outputs": [],
      "source": [
        "#Para saber de que tipo es el elemento seleccionado\n",
        "type(tablero)"
      ]
    },
    {
      "cell_type": "code",
      "execution_count": null,
      "metadata": {
        "id": "41YtT5l-qVM3"
      },
      "outputs": [],
      "source": [
        "habitaciones=[[[False for r in range(20)]for f in range(15)]for t in range(3)]\n",
        "habitaciones"
      ]
    },
    {
      "cell_type": "code",
      "execution_count": null,
      "metadata": {
        "id": "AXS-Mk3rulVJ"
      },
      "outputs": [],
      "source": [
        "!pip install pandas\n",
        "import pandas as pd"
      ]
    },
    {
      "cell_type": "code",
      "execution_count": null,
      "metadata": {
        "colab": {
          "base_uri": "https://localhost:8080/",
          "height": 175
        },
        "id": "qmPOHiWKutlH",
        "outputId": "8846fd3a-7f0b-4e50-c682-71241ec78b36"
      },
      "outputs": [],
      "source": [
        "ventas=pd.DataFrame({\"Entradas\":[41,32,56,18],\"Salidas\":[17,54,6,78]})\n",
        "ventas"
      ]
    },
    {
      "cell_type": "code",
      "execution_count": null,
      "metadata": {
        "id": "dBZyxNcCvz3x"
      },
      "outputs": [],
      "source": [
        "ventas[\"Entradas\"]"
      ]
    },
    {
      "cell_type": "code",
      "execution_count": null,
      "metadata": {
        "id": "YgTWVlUJxrY9"
      },
      "outputs": [],
      "source": [
        "#[fila,columna]\n",
        "ventas.iloc[3,1]"
      ]
    },
    {
      "cell_type": "code",
      "execution_count": null,
      "metadata": {
        "id": "NXWAJV7GyGor"
      },
      "outputs": [],
      "source": [
        "ventas.loc[0,\"Salidas\"]"
      ]
    },
    {
      "cell_type": "code",
      "execution_count": null,
      "metadata": {
        "id": "WH6xiK6TyT41"
      },
      "outputs": [],
      "source": [
        "ventas.loc[0,[\"Entradas\",\"Salidas\"]]"
      ]
    },
    {
      "cell_type": "code",
      "execution_count": null,
      "metadata": {
        "id": "eCIx7HgEzR22"
      },
      "outputs": [],
      "source": [
        "ventas[\"Total\"]=[100,200,5,30]\n",
        "ventas"
      ]
    },
    {
      "cell_type": "code",
      "execution_count": null,
      "metadata": {
        "id": "Ybfa7LWE1Qei"
      },
      "outputs": [],
      "source": [
        "ventas.index"
      ]
    },
    {
      "cell_type": "code",
      "execution_count": 44,
      "metadata": {
        "id": "rb_KORRk1XBZ"
      },
      "outputs": [],
      "source": [
        "ventas.rename(columns={\"Total\" : \"Resultado\"},inplace=True)"
      ]
    },
    {
      "cell_type": "code",
      "execution_count": null,
      "metadata": {
        "colab": {
          "base_uri": "https://localhost:8080/",
          "height": 175
        },
        "id": "URD4KajU1qCg",
        "outputId": "b78a1466-3340-463f-e619-c18c480fa60f"
      },
      "outputs": [],
      "source": [
        "ventas"
      ]
    }
  ],
  "metadata": {
    "colab": {
      "authorship_tag": "ABX9TyOfKqJa9GEg9zJadw8PFM/J",
      "include_colab_link": true,
      "provenance": []
    },
    "kernelspec": {
      "display_name": "Python 3",
      "name": "python3"
    },
    "language_info": {
      "codemirror_mode": {
        "name": "ipython",
        "version": 3
      },
      "file_extension": ".py",
      "mimetype": "text/x-python",
      "name": "python",
      "nbconvert_exporter": "python",
      "pygments_lexer": "ipython3",
      "version": "3.11.8"
    }
  },
  "nbformat": 4,
  "nbformat_minor": 0
}
