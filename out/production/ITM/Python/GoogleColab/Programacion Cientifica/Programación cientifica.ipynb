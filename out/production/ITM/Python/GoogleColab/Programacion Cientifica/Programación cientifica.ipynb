{
  "cells": [
    {
      "cell_type": "markdown",
      "metadata": {
        "id": "view-in-github",
        "colab_type": "text"
      },
      "source": [
        "<a href=\"https://colab.research.google.com/github/JhonatanTH7/ITM/blob/main/Python/GoogleColab/Programacion%20Cientifica/Programaci%C3%B3n%20cientifica.ipynb\" target=\"_parent\"><img src=\"https://colab.research.google.com/assets/colab-badge.svg\" alt=\"Open In Colab\"/></a>"
      ]
    },
    {
      "cell_type": "markdown",
      "metadata": {
        "id": "sbFi0IizgryS"
      },
      "source": [
        "Introducción a la programación cientifica"
      ]
    },
    {
      "cell_type": "code",
      "execution_count": null,
      "metadata": {
        "id": "hv0AIuHog8Vn"
      },
      "outputs": [],
      "source": [
        "print(\"ITM\")"
      ]
    },
    {
      "cell_type": "code",
      "execution_count": null,
      "metadata": {
        "id": "lPuv2D94aTfD"
      },
      "outputs": [],
      "source": [
        "universidad=\"ITM\"\n",
        "print(universidad)"
      ]
    },
    {
      "cell_type": "code",
      "execution_count": null,
      "metadata": {
        "id": "jMx3dqjAaVdx"
      },
      "outputs": [],
      "source": [
        "nombre=input(\"Ingrese su nombre \")\n",
        "print(f\"Hola {nombre}!\")"
      ]
    },
    {
      "cell_type": "code",
      "execution_count": null,
      "metadata": {
        "id": "aYFCV9f2bBrr"
      },
      "outputs": [],
      "source": [
        "horas=int(input(\"Ingrese el numero de horas trabajadas \"))\n",
        "precioHora=int(input(\"Ingrese el costo por hora \"))\n",
        "print(f\"La paga que te corresponde es de {horas*precioHora}$\")"
      ]
    },
    {
      "cell_type": "code",
      "execution_count": null,
      "metadata": {
        "id": "IVAAeQ3Ac9-2"
      },
      "outputs": [],
      "source": [
        "n=int(input(\"Ingrese un numero entero \"))\n",
        "print(f\"La suma de los n primeros numeros es {n*(n+1)/2}\")"
      ]
    },
    {
      "cell_type": "code",
      "execution_count": null,
      "metadata": {
        "id": "UOc_ltHYeL17"
      },
      "outputs": [],
      "source": [
        "kg=int(input(\"Ingrese el peso \"))\n",
        "altura=float(input(\"Ingrese la altura \"))\n",
        "print(f\"Su indice de masa corporal es {round(kg/altura**2,2)}\")"
      ]
    },
    {
      "cell_type": "code",
      "execution_count": null,
      "metadata": {
        "id": "W6LnwcpVkOTH"
      },
      "outputs": [],
      "source": [
        "n=int(input(\"Ingrese el numero de años \"))\n",
        "i=float(input(\"Ingrese la tasa de interes \"))\n",
        "CI=float(input(\"Ingrese el capital invertido \"))\n",
        "print(f\"Su capital final es {CI*(i+1)**n}\")"
      ]
    },
    {
      "cell_type": "code",
      "execution_count": null,
      "metadata": {
        "id": "mfYaMDdsmxKq"
      },
      "outputs": [],
      "source": [
        "edad=int(input(\"Ingrese su edad \"))\n",
        "if edad>17:\n",
        "  print(\"Eres mayor de edad\")\n",
        "else:\n",
        "  print(\"Eres menor de edad\")\n",
        "print(\"Suerte sapoperro\")"
      ]
    },
    {
      "cell_type": "code",
      "execution_count": null,
      "metadata": {
        "id": "gq3BHUnAaxlq"
      },
      "outputs": [],
      "source": [
        "contraseña=(input(\"Ingrese la contraseña: \"))\n",
        "password=\"234A\"\n",
        "if contraseña==password:\n",
        "  print(\"Acceso concedido\")\n",
        "else:\n",
        "  print(\"Contraseña incorrecta...acceso no concedido\")"
      ]
    },
    {
      "cell_type": "code",
      "execution_count": null,
      "metadata": {
        "id": "evKqHwn-cdTE"
      },
      "outputs": [],
      "source": [
        "palabra=input(\"Ingrese una palabra: \")\n",
        "for j in range(1,11):\n",
        "  print(f\"{j} - {palabra}\")\n",
        "print(\"Adios\")"
      ]
    },
    {
      "cell_type": "code",
      "execution_count": null,
      "metadata": {
        "id": "OURSKvWletRw"
      },
      "outputs": [],
      "source": [
        "palabra=input(\"Ingrese una palabra: \")\n",
        "j=1\n",
        "while(j<11):\n",
        "  print(f\"{j} - {palabra}\")\n",
        "  j+=1"
      ]
    },
    {
      "cell_type": "code",
      "execution_count": null,
      "metadata": {
        "id": "ek_a2mqBfbxG"
      },
      "outputs": [],
      "source": [
        "edad=int(input(\"Ingrese su edad: \"))\n",
        "j=1\n",
        "while(j<edad+1):\n",
        "  print(j)\n",
        "  j+=1"
      ]
    },
    {
      "cell_type": "code",
      "execution_count": null,
      "metadata": {
        "id": "slc722STiHWd"
      },
      "outputs": [],
      "source": [
        "edad=int(input(\"Ingrese su edad: \"))\n",
        "j=1\n",
        "for j in range(1,edad+1,1):\n",
        "  print(j)"
      ]
    },
    {
      "cell_type": "code",
      "execution_count": null,
      "metadata": {
        "id": "9C0UB7x8hAHz"
      },
      "outputs": [],
      "source": [
        "edad=int(input(\"Ingrese un numero entero positivo: \"))\n",
        "j=edad\n",
        "while(j>0):\n",
        "  print(j)\n",
        "  j-=1"
      ]
    },
    {
      "cell_type": "code",
      "execution_count": null,
      "metadata": {
        "id": "EwzYJrwSiZEo"
      },
      "outputs": [],
      "source": [
        "edad=int(input(\"Ingrese un numero entero positivo: \"))\n",
        "j=edad\n",
        "for j in range(edad,0,-1):\n",
        "  print(j)"
      ]
    },
    {
      "cell_type": "code",
      "execution_count": null,
      "metadata": {
        "id": "lLJf7IqdjRPG"
      },
      "outputs": [],
      "source": [
        "CI=float(input(\"Ingrese el capital a invertir: \"))\n",
        "i=float(input(\"Ingrese la tasa de interes anual: \"))\n",
        "n=int(input(\"Ingrese el numero de años: \"))\n",
        "for j in range(1,n+1,1):\n",
        "  print(f\"Su capital en el año {j} es {round(CI*(i+1)**j,2)}\")"
      ]
    },
    {
      "cell_type": "code",
      "source": [
        "Animales={\"gato\":\"miau\",\"perro\":\"guau\"}\n",
        "print(Animales)\n",
        "print(Animales[\"gato\"])\n",
        "print(Animales[\"perro\"])\n",
        "print(Animales.keys())"
      ],
      "metadata": {
        "id": "sUsQIeMqe82I"
      },
      "execution_count": null,
      "outputs": []
    },
    {
      "cell_type": "code",
      "source": [
        "17>>1"
      ],
      "metadata": {
        "id": "xTQqeioejeZD"
      },
      "execution_count": null,
      "outputs": []
    },
    {
      "cell_type": "code",
      "source": [
        "17<<1"
      ],
      "metadata": {
        "id": "OXY8ODFOpGS8"
      },
      "execution_count": null,
      "outputs": []
    },
    {
      "cell_type": "code",
      "source": [
        "lista=[1,2]\n",
        "lista"
      ],
      "metadata": {
        "id": "7-jIPuexmjET"
      },
      "execution_count": null,
      "outputs": []
    },
    {
      "cell_type": "code",
      "source": [
        "tupla=(2,\"Hola\",[4,5,6],True)\n",
        "tupla"
      ],
      "metadata": {
        "id": "zTqJ0WbHmlhQ"
      },
      "execution_count": 7,
      "outputs": []
    },
    {
      "cell_type": "code",
      "source": [
        "tupla2=(tupla,\"Jose\",False,2,True)\n",
        "tupla2"
      ],
      "metadata": {
        "id": "kDq2VPmTn-cn"
      },
      "execution_count": null,
      "outputs": []
    },
    {
      "cell_type": "code",
      "source": [
        "lista2=[43,\"Hola\",[43,56,72]]\n",
        "lista"
      ],
      "metadata": {
        "id": "TpWbV5FJm08x"
      },
      "execution_count": null,
      "outputs": []
    },
    {
      "cell_type": "code",
      "source": [
        "lista2[2]=lista[0]\n",
        "lista2"
      ],
      "metadata": {
        "id": "5sWwGOOLnHCj"
      },
      "execution_count": null,
      "outputs": []
    },
    {
      "cell_type": "code",
      "source": [
        "len(lista), len(tupla), len(tupla2), len(lista2)"
      ],
      "metadata": {
        "id": "Hwd84xl3pKZ2"
      },
      "execution_count": null,
      "outputs": []
    },
    {
      "cell_type": "code",
      "source": [
        "lista2.append(1000)\n",
        "lista2"
      ],
      "metadata": {
        "id": "Ro9ImhLgq3aJ"
      },
      "execution_count": null,
      "outputs": []
    },
    {
      "cell_type": "code",
      "source": [
        "# Ingresa en el indice indicado y mueve el resto de elementos sin eliminarlos (los corre una posición)\n",
        "lista2.insert(2,\"Sapoperro\")\n",
        "lista2"
      ],
      "metadata": {
        "id": "Br_MuBXVrhNz"
      },
      "execution_count": null,
      "outputs": []
    },
    {
      "cell_type": "code",
      "source": [
        "lista2.pop()\n",
        "lista2"
      ],
      "metadata": {
        "id": "r7LbwmoBrTok"
      },
      "execution_count": null,
      "outputs": []
    },
    {
      "cell_type": "code",
      "source": [
        "lista2.pop(0)\n",
        "lista2"
      ],
      "metadata": {
        "id": "CO4ZoI1wrBZI"
      },
      "execution_count": null,
      "outputs": []
    },
    {
      "cell_type": "code",
      "source": [
        "numeros=[4,21,6,84,2,1,78,83,3,3,1]\n",
        "numeros"
      ],
      "metadata": {
        "id": "2BGfsF7Cr4-m"
      },
      "execution_count": null,
      "outputs": []
    },
    {
      "cell_type": "code",
      "source": [
        "numeros.sort()\n",
        "numeros"
      ],
      "metadata": {
        "id": "8L8WKFLXr1l1"
      },
      "execution_count": null,
      "outputs": []
    },
    {
      "cell_type": "code",
      "source": [
        "numeros.reverse()\n",
        "numeros"
      ],
      "metadata": {
        "id": "OMaL_LbosMB6"
      },
      "execution_count": null,
      "outputs": []
    },
    {
      "cell_type": "code",
      "source": [
        "numeros.sort(reverse=True)\n",
        "numeros"
      ],
      "metadata": {
        "id": "94fjHcyUsMlc"
      },
      "execution_count": null,
      "outputs": []
    },
    {
      "cell_type": "code",
      "source": [
        "# Cuenta el numero de veces que se repite el elemento indicado\n",
        "numeros.count(3)"
      ],
      "metadata": {
        "id": "hIfDZoVftPeD"
      },
      "execution_count": null,
      "outputs": []
    },
    {
      "cell_type": "code",
      "source": [
        "# Une la lista indicada a la accedida con el metodo\n",
        "numeros.extend(lista2)\n",
        "numeros"
      ],
      "metadata": {
        "id": "5VLrZvhCtjVw"
      },
      "execution_count": null,
      "outputs": []
    },
    {
      "cell_type": "code",
      "source": [
        "listaAux=lista+lista2\n",
        "listaAux"
      ],
      "metadata": {
        "id": "IHCVchsXvcmN"
      },
      "execution_count": null,
      "outputs": []
    },
    {
      "cell_type": "code",
      "source": [
        "numeros.clear()\n",
        "numeros"
      ],
      "metadata": {
        "id": "WW-jsk_itn0z"
      },
      "execution_count": null,
      "outputs": []
    },
    {
      "cell_type": "code",
      "source": [
        "# Me sincroniza las listas el cambio de una se ve reflejada en la otra\n",
        "lista=lista2\n",
        "# Me copia la lista a la otra sin sincronizar\n",
        "lista=lista2[:]"
      ],
      "metadata": {
        "id": "MmsbYwIHtnoA"
      },
      "execution_count": null,
      "outputs": []
    },
    {
      "cell_type": "code",
      "source": [
        "# Intercambia valores en una lista\n",
        "prueba=[0,1,2,3,4]\n",
        "prueba[0],prueba[3]=prueba[3],prueba[0]\n",
        "prueba"
      ],
      "metadata": {
        "id": "EA6FTOfYyNlZ"
      },
      "execution_count": null,
      "outputs": []
    }
  ],
  "metadata": {
    "colab": {
      "provenance": [],
      "authorship_tag": "ABX9TyNVuQawgGYoV7rMSFFXcgSN",
      "include_colab_link": true
    },
    "kernelspec": {
      "display_name": "Python 3",
      "name": "python3"
    },
    "language_info": {
      "codemirror_mode": {
        "name": "ipython",
        "version": 3
      },
      "file_extension": ".py",
      "mimetype": "text/x-python",
      "name": "python",
      "nbconvert_exporter": "python",
      "pygments_lexer": "ipython3",
      "version": "3.11.8"
    }
  },
  "nbformat": 4,
  "nbformat_minor": 0
}